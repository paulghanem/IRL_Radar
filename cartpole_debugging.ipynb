{
 "cells": [
  {
   "cell_type": "code",
   "execution_count": 1,
   "metadata": {
    "ExecuteTime": {
     "end_time": "2025-01-07T16:13:26.229251Z",
     "start_time": "2025-01-07T16:13:26.055373Z"
    },
    "collapsed": false,
    "jupyter": {
     "outputs_hidden": false
    }
   },
   "outputs": [],
   "source": [
    "%matplotlib inline\n",
    "%load_ext autoreload\n",
    "%autoreload 2\n",
    "%config InlineBackend.figure_format = 'retina'"
   ]
  },
  {
   "cell_type": "code",
   "execution_count": 2,
   "metadata": {
    "ExecuteTime": {
     "end_time": "2025-01-07T16:13:27.078029Z",
     "start_time": "2025-01-07T16:13:27.000688Z"
    },
    "collapsed": false,
    "jupyter": {
     "outputs_hidden": false
    }
   },
   "outputs": [
    {
     "data": {
      "text/plain": [
       "(4, [CpuDevice(id=0), CpuDevice(id=1), CpuDevice(id=2), CpuDevice(id=3)])"
      ]
     },
     "execution_count": 2,
     "metadata": {},
     "output_type": "execute_result"
    }
   ],
   "source": [
    "import os\n",
    "import os.path as osp\n",
    "\n",
    "# Set the number of (emulated) host devices\n",
    "num_devices = 4\n",
    "os.environ['XLA_FLAGS'] = f\"--xla_force_host_platform_device_count={num_devices}\"\n",
    "\n",
    "import numpy as np\n",
    "\n",
    "import jax\n",
    "import jax.numpy as jnp\n",
    "from jax import lax\n",
    "import gymnax\n",
    "\n",
    "jax.device_count(), jax.devices()"
   ]
  },
  {
   "cell_type": "code",
   "execution_count": 69,
   "metadata": {
    "ExecuteTime": {
     "end_time": "2025-01-07T16:13:30.431988Z",
     "start_time": "2025-01-07T16:13:30.348397Z"
    },
    "collapsed": false,
    "jupyter": {
     "outputs_hidden": false
    }
   },
   "outputs": [],
   "source": [
    "from utils.models import get_model_ready\n",
    "from utils.helpers import load_config, save_pkl_object\n",
    "from src.control.dynamics import cartpole_step,CartPoleEnvState,cartpole_kinematics\n",
    "\n",
    "\"\"\"Run training with ES or PPO. Store logs and agent ckpt.\"\"\"\n",
    "ppo_yaml = osp.join(\"expert_agents\",\"CartPole-v1\",\"ppo.yaml\")\n",
    "seed_id = 123\n",
    "lrate = 5e-04\n",
    "\n",
    "config = load_config(ppo_yaml, seed_id, lrate)\n",
    "\n",
    "rng = jax.random.PRNGKey(config.train_config.seed_id)\n",
    "# Setup the model architecture\n",
    "rng, rng_init = jax.random.split(rng)\n",
    "model, policy_params = get_model_ready(rng_init, config.train_config)"
   ]
  },
  {
   "cell_type": "code",
   "execution_count": 27,
   "metadata": {},
   "outputs": [],
   "source": [
    "def batch_step(x,x_dot,theta,theta_dot, action):\n",
    "    return jax.vmap(cartpole_step, in_axes=(0, 0,0,0,0))(\n",
    "        x,x_dot,theta,theta_dot, action)\n",
    "    "
   ]
  },
  {
   "cell_type": "code",
   "execution_count": 28,
   "metadata": {},
   "outputs": [],
   "source": [
    "state = CartPoleEnvState(jnp.array([0.1]),jnp.array([0.1]),jnp.array([0.1]),jnp.array([0.1]))\n",
    "action = jnp.array([0])"
   ]
  },
  {
   "cell_type": "code",
   "execution_count": 29,
   "metadata": {},
   "outputs": [
    {
     "data": {
      "text/plain": [
       "Array([[ 0.102     ],\n",
       "       [-0.09640235],\n",
       "       [ 0.102     ],\n",
       "       [ 0.42248276]], dtype=float64)"
      ]
     },
     "execution_count": 29,
     "metadata": {},
     "output_type": "execute_result"
    }
   ],
   "source": [
    "state = cartpole_step(state.x,state.x_dot,state.theta,state.theta_dot,action)\n",
    "state"
   ]
  },
  {
   "cell_type": "code",
   "execution_count": 30,
   "metadata": {},
   "outputs": [],
   "source": [
    "state_batch = CartPoleEnvState(jnp.array(np.random.randn(5,)),\n",
    "                       jnp.array(np.random.randn(5,)),\n",
    "                       jnp.array(np.random.randn(5,)),\n",
    "                       jnp.array(np.random.randn(5,)))\n",
    "action_batch = jnp.array(np.random.randint(0,2,5))"
   ]
  },
  {
   "cell_type": "code",
   "execution_count": 31,
   "metadata": {},
   "outputs": [
    {
     "data": {
      "text/plain": [
       "CartPoleEnvState(x=Array([0.16887683, 0.25342474, 1.43330185, 0.66684305, 0.1711656 ],      dtype=float64), x_dot=Array([-0.62648993,  0.64402032,  1.04853453, -2.29503117, -1.10335393],      dtype=float64), theta=Array([-0.04119768,  0.94428266, -0.43576316,  0.09866285, -0.54856945],      dtype=float64), theta_dot=Array([ 1.03033543, -0.89861142,  0.07671684,  1.30767577,  1.20013876],      dtype=float64))"
      ]
     },
     "execution_count": 31,
     "metadata": {},
     "output_type": "execute_result"
    }
   ],
   "source": [
    "state_batch"
   ]
  },
  {
   "cell_type": "code",
   "execution_count": 32,
   "metadata": {},
   "outputs": [],
   "source": [
    "next_state  = batch_step(\n",
    "  state_batch.x,state_batch.x_dot,state_batch.theta,state_batch.theta_dot, action_batch\n",
    ")"
   ]
  },
  {
   "cell_type": "code",
   "execution_count": 35,
   "metadata": {},
   "outputs": [
    {
     "data": {
      "text/plain": [
       "Array([[ 0.15634703, -0.82104023, -0.02059098,  1.30980456],\n",
       "       [ 0.26630514,  0.45194747,  0.92631043, -0.49152349],\n",
       "       [ 1.45427254,  0.86133846, -0.43422882,  0.20717214],\n",
       "       [ 0.62094243, -2.49125528,  0.12481636,  1.62954035],\n",
       "       [ 0.14909852, -0.9065003 , -0.52456668,  0.79487308]],      dtype=float64)"
      ]
     },
     "execution_count": 35,
     "metadata": {},
     "output_type": "execute_result"
    }
   ],
   "source": [
    "next_state"
   ]
  },
  {
   "cell_type": "code",
   "execution_count": 70,
   "metadata": {},
   "outputs": [],
   "source": [
    "# Jit-Compiled Episode Rollout\n",
    "from functools import partial\n",
    "\n",
    "jit_rollout = jax.jit(partial(cartpole_kinematics,cartpole_step=cartpole_step))"
   ]
  },
  {
   "cell_type": "code",
   "execution_count": 71,
   "metadata": {},
   "outputs": [],
   "source": [
    "state = CartPoleEnvState(jnp.array([0.1]),jnp.array([0.1]),jnp.array([0.1]),jnp.array([0.1]))\n",
    "action = jnp.array(np.random.randint(0,2,10))"
   ]
  },
  {
   "cell_type": "code",
   "execution_count": 72,
   "metadata": {},
   "outputs": [],
   "source": [
    "x_rollout, x_dot_rollout, theta_rollout, theta_dot_rollout = jit_rollout(state.x,state.x_dot,state.theta,state.theta_dot,action)"
   ]
  },
  {
   "cell_type": "code",
   "execution_count": 73,
   "metadata": {},
   "outputs": [
    {
     "data": {
      "text/plain": [
       "Array([[0.102     ],\n",
       "       [0.10007195],\n",
       "       [0.09421575],\n",
       "       [0.08443037],\n",
       "       [0.07071426],\n",
       "       [0.06085865],\n",
       "       [0.05485238],\n",
       "       [0.05268567],\n",
       "       [0.04657173],\n",
       "       [0.03651157]], dtype=float64)"
      ]
     },
     "execution_count": 73,
     "metadata": {},
     "output_type": "execute_result"
    }
   ],
   "source": [
    "x_rollout"
   ]
  }
 ],
 "metadata": {
  "kernelspec": {
   "display_name": "Python 3 (ipykernel)",
   "language": "python",
   "name": "python3"
  },
  "language_info": {
   "codemirror_mode": {
    "name": "ipython",
    "version": 3
   },
   "file_extension": ".py",
   "mimetype": "text/x-python",
   "name": "python",
   "nbconvert_exporter": "python",
   "pygments_lexer": "ipython3",
   "version": "3.10.16"
  }
 },
 "nbformat": 4,
 "nbformat_minor": 4
}
