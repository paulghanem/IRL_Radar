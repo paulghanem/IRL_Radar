{
 "cells": [
  {
   "cell_type": "code",
   "execution_count": 1,
   "metadata": {
    "ExecuteTime": {
     "end_time": "2025-01-07T16:13:26.229251Z",
     "start_time": "2025-01-07T16:13:26.055373Z"
    },
    "collapsed": false,
    "jupyter": {
     "outputs_hidden": false
    }
   },
   "outputs": [],
   "source": [
    "%matplotlib inline\n",
    "%load_ext autoreload\n",
    "%autoreload 2\n",
    "%config InlineBackend.figure_format = 'retina'"
   ]
  },
  {
   "cell_type": "code",
   "execution_count": 2,
   "metadata": {
    "ExecuteTime": {
     "end_time": "2025-01-07T16:13:27.078029Z",
     "start_time": "2025-01-07T16:13:27.000688Z"
    },
    "collapsed": false,
    "jupyter": {
     "outputs_hidden": false
    }
   },
   "outputs": [
    {
     "data": {
      "text/plain": [
       "(4, [CpuDevice(id=0), CpuDevice(id=1), CpuDevice(id=2), CpuDevice(id=3)])"
      ]
     },
     "execution_count": 2,
     "metadata": {},
     "output_type": "execute_result"
    }
   ],
   "source": [
    "import os\n",
    "import os.path as osp\n",
    "\n",
    "# Set the number of (emulated) host devices\n",
    "num_devices = 4\n",
    "os.environ['XLA_FLAGS'] = f\"--xla_force_host_platform_device_count={num_devices}\"\n",
    "\n",
    "import numpy as np\n",
    "\n",
    "import jax\n",
    "import jax.numpy as jnp\n",
    "from jax import lax\n",
    "import gymnax\n",
    "\n",
    "jax.device_count(), jax.devices()"
   ]
  },
  {
   "cell_type": "code",
   "execution_count": 3,
   "metadata": {
    "ExecuteTime": {
     "end_time": "2025-01-07T16:13:30.431988Z",
     "start_time": "2025-01-07T16:13:30.348397Z"
    },
    "collapsed": false,
    "jupyter": {
     "outputs_hidden": false
    }
   },
   "outputs": [],
   "source": [
    "from utils.models import get_model_ready\n",
    "from utils.helpers import load_config, save_pkl_object\n",
    "from src.control.dynamics import cartpole_step,CartPoleEnvState,cartpole_kinematics\n",
    "\n",
    "\"\"\"Run training with ES or PPO. Store logs and agent ckpt.\"\"\"\n",
    "ppo_yaml = osp.join(\"expert_agents\",\"CartPole-v1\",\"ppo.yaml\")\n",
    "seed_id = 123\n",
    "lrate = 5e-04\n",
    "\n",
    "config = load_config(ppo_yaml, seed_id, lrate)\n",
    "\n",
    "rng = jax.random.PRNGKey(config.train_config.seed_id)\n",
    "# Setup the model architecture\n",
    "rng, rng_init = jax.random.split(rng)\n",
    "model, policy_params = get_model_ready(rng_init, config.train_config)"
   ]
  },
  {
   "cell_type": "code",
   "execution_count": 4,
   "metadata": {},
   "outputs": [],
   "source": [
    "def batch_step(x,x_dot,theta,theta_dot, action):\n",
    "    return jax.vmap(cartpole_step, in_axes=(0, 0,0,0,0))(\n",
    "        x,x_dot,theta,theta_dot, action)\n",
    "    "
   ]
  },
  {
   "cell_type": "code",
   "execution_count": 5,
   "metadata": {},
   "outputs": [],
   "source": [
    "state = CartPoleEnvState(jnp.array([0.1]),jnp.array([0.1]),jnp.array([0.1]),jnp.array([0.1]))\n",
    "action = jnp.array([0])"
   ]
  },
  {
   "cell_type": "code",
   "execution_count": 6,
   "metadata": {},
   "outputs": [
    {
     "data": {
      "text/plain": [
       "Array([[ 0.102     ],\n",
       "       [-0.09640235],\n",
       "       [ 0.102     ],\n",
       "       [ 0.42248276]], dtype=float64)"
      ]
     },
     "execution_count": 6,
     "metadata": {},
     "output_type": "execute_result"
    }
   ],
   "source": [
    "state = cartpole_step(state.x,state.x_dot,state.theta,state.theta_dot,action)\n",
    "state"
   ]
  },
  {
   "cell_type": "code",
   "execution_count": 7,
   "metadata": {},
   "outputs": [],
   "source": [
    "state_batch = CartPoleEnvState(jnp.array(np.random.randn(5,)),\n",
    "                       jnp.array(np.random.randn(5,)),\n",
    "                       jnp.array(np.random.randn(5,)),\n",
    "                       jnp.array(np.random.randn(5,)))\n",
    "action_batch = jnp.array(np.random.randint(0,2,5))"
   ]
  },
  {
   "cell_type": "code",
   "execution_count": 8,
   "metadata": {},
   "outputs": [
    {
     "data": {
      "text/plain": [
       "CartPoleEnvState(x=Array([-0.49284032,  1.02885845,  0.13516916, -1.46686507, -1.24444466],      dtype=float64), x_dot=Array([-0.45490259, -0.20235229,  0.0206057 , -0.79787932, -0.23931117],      dtype=float64), theta=Array([ 0.57999837,  2.63459132, -0.44573734,  0.57568943, -0.38591262],      dtype=float64), theta_dot=Array([ 0.43615069, -2.16858843,  0.54762725,  0.14619197, -0.16265067],      dtype=float64))"
      ]
     },
     "execution_count": 8,
     "metadata": {},
     "output_type": "execute_result"
    }
   ],
   "source": [
    "state_batch"
   ]
  },
  {
   "cell_type": "code",
   "execution_count": 9,
   "metadata": {},
   "outputs": [],
   "source": [
    "next_state  = batch_step(\n",
    "  state_batch.x,state_batch.x_dot,state_batch.theta,state_batch.theta_dot, action_batch\n",
    ")"
   ]
  },
  {
   "cell_type": "code",
   "execution_count": 10,
   "metadata": {},
   "outputs": [
    {
     "data": {
      "text/plain": [
       "Array([[-0.50193837, -0.65216214,  0.58872138,  0.84476997],\n",
       "       [ 1.0248114 , -0.38599085,  2.59121955, -2.26664086],\n",
       "       [ 0.13558127,  0.21848911, -0.4347848 ,  0.15305377],\n",
       "       [-1.48282266, -0.99525862,  0.57861327,  0.55459717],\n",
       "       [-1.24923088, -0.42749082, -0.38916564, -0.01180364]],      dtype=float64)"
      ]
     },
     "execution_count": 10,
     "metadata": {},
     "output_type": "execute_result"
    }
   ],
   "source": [
    "next_state"
   ]
  },
  {
   "cell_type": "code",
   "execution_count": 11,
   "metadata": {},
   "outputs": [],
   "source": [
    "# Jit-Compiled Episode Rollout\n",
    "from functools import partial\n",
    "\n",
    "jit_rollout = jax.jit(partial(cartpole_kinematics,cartpole_step=cartpole_step))"
   ]
  },
  {
   "cell_type": "code",
   "execution_count": 12,
   "metadata": {},
   "outputs": [],
   "source": [
    "state = CartPoleEnvState(jnp.array([0.1]),jnp.array([0.1]),jnp.array([0.1]),jnp.array([0.1]))\n",
    "action = jnp.array(np.random.randint(0,2,10))"
   ]
  },
  {
   "cell_type": "code",
   "execution_count": 13,
   "metadata": {},
   "outputs": [],
   "source": [
    "x_rollout, x_dot_rollout, theta_rollout, theta_dot_rollout = jit_rollout(state.x,state.x_dot,state.theta,state.theta_dot,action)"
   ]
  },
  {
   "cell_type": "code",
   "execution_count": 14,
   "metadata": {},
   "outputs": [
    {
     "data": {
      "text/plain": [
       "Array([[0.102     ],\n",
       "       [0.10007195],\n",
       "       [0.10201471],\n",
       "       [0.1078251 ],\n",
       "       [0.11750197],\n",
       "       [0.12324842],\n",
       "       [0.13286433],\n",
       "       [0.14635   ],\n",
       "       [0.15590839],\n",
       "       [0.16934194]], dtype=float64)"
      ]
     },
     "execution_count": 14,
     "metadata": {},
     "output_type": "execute_result"
    }
   ],
   "source": [
    "x_rollout"
   ]
  },
  {
   "cell_type": "markdown",
   "metadata": {},
   "source": [
    "## Expert Demo"
   ]
  },
  {
   "cell_type": "code",
   "execution_count": 15,
   "metadata": {},
   "outputs": [],
   "source": [
    "from utils.models import load_neural_network\n",
    "from gymnax.visualize import Visualizer\n"
   ]
  },
  {
   "cell_type": "code",
   "execution_count": 16,
   "metadata": {},
   "outputs": [
    {
     "name": "stdout",
     "output_type": "stream",
     "text": [
      "Loaded data from expert_agents\\CartPole-v1\\ppo.pkl.\n"
     ]
    }
   ],
   "source": [
    "base =  osp.join(\"expert_agents\",\"CartPole-v1\",\"ppo\")\n",
    "configs = load_config(base + \".yaml\")\n",
    "model, model_params = load_neural_network(\n",
    "    configs.train_config, base + \".pkl\"\n",
    ")"
   ]
  },
  {
   "cell_type": "code",
   "execution_count": 17,
   "metadata": {},
   "outputs": [],
   "source": [
    "def rollout_episode(env, env_params, model, model_params, max_frames=200):\n",
    "    state_seq = []\n",
    "    rng = jax.random.PRNGKey(0)\n",
    "\n",
    "    rng, rng_reset = jax.random.split(rng)\n",
    "    obs, env_state = env.reset(rng_reset, env_params)\n",
    "\n",
    "    if model is not None:\n",
    "        if model.model_name == \"LSTM\":\n",
    "            hidden = model.initialize_carry()\n",
    "\n",
    "    t_counter = 0\n",
    "    reward_seq = []\n",
    "    while True:\n",
    "        state_seq.append(env_state)\n",
    "        rng, rng_act, rng_step = jax.random.split(rng, 3)\n",
    "\n",
    "        v, pi = model.apply(model_params, obs, rng_act)\n",
    "\n",
    "        action = pi.sample(seed=rng_act)\n",
    "\n",
    "        next_obs, next_env_state, reward, done, info = env.step(\n",
    "            rng_step, env_state, action, env_params\n",
    "        )\n",
    "      \n",
    "        reward_seq.append(reward)\n",
    "        print(t_counter, reward, action, done)\n",
    "        print(10 * \"=\")\n",
    "        t_counter += 1\n",
    "        if t_counter == max_frames:\n",
    "            break\n",
    "        else:\n",
    "            env_state = next_env_state\n",
    "            obs = next_obs\n",
    "    print(f\"{env.name} - Steps: {t_counter}, Return: {np.sum(reward_seq)}\")\n",
    "    return state_seq, np.cumsum(reward_seq)"
   ]
  },
  {
   "cell_type": "code",
   "execution_count": 18,
   "metadata": {
    "scrolled": true
   },
   "outputs": [
    {
     "name": "stdout",
     "output_type": "stream",
     "text": [
      "0 1.0 1 False\n",
      "==========\n",
      "1 1.0 1 False\n",
      "==========\n",
      "2 1.0 0 False\n",
      "==========\n",
      "3 1.0 1 False\n",
      "==========\n",
      "4 1.0 0 False\n",
      "==========\n",
      "5 1.0 1 False\n",
      "==========\n",
      "6 1.0 0 False\n",
      "==========\n",
      "7 1.0 0 False\n",
      "==========\n",
      "8 1.0 0 False\n",
      "==========\n",
      "9 1.0 1 False\n",
      "==========\n",
      "10 1.0 0 False\n",
      "==========\n",
      "11 1.0 1 False\n",
      "==========\n",
      "12 1.0 0 False\n",
      "==========\n",
      "13 1.0 1 False\n",
      "==========\n",
      "14 1.0 0 False\n",
      "==========\n",
      "15 1.0 1 False\n",
      "==========\n",
      "16 1.0 0 False\n",
      "==========\n",
      "17 1.0 1 False\n",
      "==========\n",
      "18 1.0 0 False\n",
      "==========\n",
      "19 1.0 1 False\n",
      "==========\n",
      "20 1.0 0 False\n",
      "==========\n",
      "21 1.0 1 False\n",
      "==========\n",
      "22 1.0 0 False\n",
      "==========\n",
      "23 1.0 1 False\n",
      "==========\n",
      "24 1.0 0 False\n",
      "==========\n",
      "25 1.0 1 False\n",
      "==========\n",
      "26 1.0 0 False\n",
      "==========\n",
      "27 1.0 0 False\n",
      "==========\n",
      "28 1.0 1 False\n",
      "==========\n",
      "29 1.0 1 False\n",
      "==========\n",
      "30 1.0 1 False\n",
      "==========\n",
      "31 1.0 0 False\n",
      "==========\n",
      "32 1.0 0 False\n",
      "==========\n",
      "33 1.0 1 False\n",
      "==========\n",
      "34 1.0 0 False\n",
      "==========\n",
      "35 1.0 1 False\n",
      "==========\n",
      "36 1.0 0 False\n",
      "==========\n",
      "37 1.0 1 False\n",
      "==========\n",
      "38 1.0 1 False\n",
      "==========\n",
      "39 1.0 0 False\n",
      "==========\n",
      "40 1.0 0 False\n",
      "==========\n",
      "41 1.0 1 False\n",
      "==========\n",
      "42 1.0 0 False\n",
      "==========\n",
      "43 1.0 1 False\n",
      "==========\n",
      "44 1.0 0 False\n",
      "==========\n",
      "45 1.0 1 False\n",
      "==========\n",
      "46 1.0 0 False\n",
      "==========\n",
      "47 1.0 1 False\n",
      "==========\n",
      "48 1.0 1 False\n",
      "==========\n",
      "49 1.0 0 False\n",
      "==========\n",
      "50 1.0 0 False\n",
      "==========\n",
      "51 1.0 1 False\n",
      "==========\n",
      "52 1.0 1 False\n",
      "==========\n",
      "53 1.0 0 False\n",
      "==========\n",
      "54 1.0 1 False\n",
      "==========\n",
      "55 1.0 0 False\n",
      "==========\n",
      "56 1.0 1 False\n",
      "==========\n",
      "57 1.0 1 False\n",
      "==========\n",
      "58 1.0 0 False\n",
      "==========\n",
      "59 1.0 1 False\n",
      "==========\n",
      "60 1.0 0 False\n",
      "==========\n",
      "61 1.0 1 False\n",
      "==========\n",
      "62 1.0 0 False\n",
      "==========\n",
      "63 1.0 0 False\n",
      "==========\n",
      "64 1.0 1 False\n",
      "==========\n",
      "65 1.0 0 False\n",
      "==========\n",
      "66 1.0 0 False\n",
      "==========\n",
      "67 1.0 1 False\n",
      "==========\n",
      "68 1.0 0 False\n",
      "==========\n",
      "69 1.0 1 False\n",
      "==========\n",
      "70 1.0 0 False\n",
      "==========\n",
      "71 1.0 1 False\n",
      "==========\n",
      "72 1.0 1 False\n",
      "==========\n",
      "73 1.0 0 False\n",
      "==========\n",
      "74 1.0 0 False\n",
      "==========\n",
      "75 1.0 0 False\n",
      "==========\n",
      "76 1.0 1 False\n",
      "==========\n",
      "77 1.0 1 False\n",
      "==========\n",
      "78 1.0 0 False\n",
      "==========\n",
      "79 1.0 1 False\n",
      "==========\n",
      "80 1.0 0 False\n",
      "==========\n",
      "81 1.0 1 False\n",
      "==========\n",
      "82 1.0 0 False\n",
      "==========\n",
      "83 1.0 1 False\n",
      "==========\n",
      "84 1.0 1 False\n",
      "==========\n",
      "85 1.0 0 False\n",
      "==========\n",
      "86 1.0 0 False\n",
      "==========\n",
      "87 1.0 1 False\n",
      "==========\n",
      "88 1.0 1 False\n",
      "==========\n",
      "89 1.0 0 False\n",
      "==========\n",
      "90 1.0 0 False\n",
      "==========\n",
      "91 1.0 0 False\n",
      "==========\n",
      "92 1.0 1 False\n",
      "==========\n",
      "93 1.0 1 False\n",
      "==========\n",
      "94 1.0 0 False\n",
      "==========\n",
      "95 1.0 1 False\n",
      "==========\n",
      "96 1.0 0 False\n",
      "==========\n",
      "97 1.0 1 False\n",
      "==========\n",
      "98 1.0 0 False\n",
      "==========\n",
      "99 1.0 1 False\n",
      "==========\n",
      "100 1.0 1 False\n",
      "==========\n",
      "101 1.0 0 False\n",
      "==========\n",
      "102 1.0 0 False\n",
      "==========\n",
      "103 1.0 1 False\n",
      "==========\n",
      "104 1.0 0 False\n",
      "==========\n",
      "105 1.0 1 False\n",
      "==========\n",
      "106 1.0 0 False\n",
      "==========\n",
      "107 1.0 1 False\n",
      "==========\n",
      "108 1.0 1 False\n",
      "==========\n",
      "109 1.0 0 False\n",
      "==========\n",
      "110 1.0 0 False\n",
      "==========\n",
      "111 1.0 1 False\n",
      "==========\n",
      "112 1.0 0 False\n",
      "==========\n",
      "113 1.0 1 False\n",
      "==========\n",
      "114 1.0 1 False\n",
      "==========\n",
      "115 1.0 1 False\n",
      "==========\n",
      "116 1.0 0 False\n",
      "==========\n",
      "117 1.0 0 False\n",
      "==========\n",
      "118 1.0 1 False\n",
      "==========\n",
      "119 1.0 0 False\n",
      "==========\n",
      "120 1.0 1 False\n",
      "==========\n",
      "121 1.0 0 False\n",
      "==========\n",
      "122 1.0 1 False\n",
      "==========\n",
      "123 1.0 0 False\n",
      "==========\n",
      "124 1.0 0 False\n",
      "==========\n",
      "125 1.0 1 False\n",
      "==========\n",
      "126 1.0 0 False\n",
      "==========\n",
      "127 1.0 1 False\n",
      "==========\n",
      "128 1.0 0 False\n",
      "==========\n",
      "129 1.0 1 False\n",
      "==========\n",
      "130 1.0 0 False\n",
      "==========\n",
      "131 1.0 1 False\n",
      "==========\n",
      "132 1.0 0 False\n",
      "==========\n",
      "133 1.0 1 False\n",
      "==========\n",
      "134 1.0 0 False\n",
      "==========\n",
      "135 1.0 1 False\n",
      "==========\n",
      "136 1.0 0 False\n",
      "==========\n",
      "137 1.0 1 False\n",
      "==========\n",
      "138 1.0 0 False\n",
      "==========\n",
      "139 1.0 1 False\n",
      "==========\n",
      "140 1.0 1 False\n",
      "==========\n",
      "141 1.0 0 False\n",
      "==========\n",
      "142 1.0 0 False\n",
      "==========\n",
      "143 1.0 1 False\n",
      "==========\n",
      "144 1.0 0 False\n",
      "==========\n",
      "145 1.0 1 False\n",
      "==========\n",
      "146 1.0 1 False\n",
      "==========\n",
      "147 1.0 0 False\n",
      "==========\n",
      "148 1.0 1 False\n",
      "==========\n",
      "149 1.0 0 False\n",
      "==========\n",
      "150 1.0 1 False\n",
      "==========\n",
      "151 1.0 0 False\n",
      "==========\n",
      "152 1.0 1 False\n",
      "==========\n",
      "153 1.0 0 False\n",
      "==========\n",
      "154 1.0 1 False\n",
      "==========\n",
      "155 1.0 0 False\n",
      "==========\n",
      "156 1.0 1 False\n",
      "==========\n",
      "157 1.0 0 False\n",
      "==========\n",
      "158 1.0 1 False\n",
      "==========\n",
      "159 1.0 0 False\n",
      "==========\n",
      "160 1.0 0 False\n",
      "==========\n",
      "161 1.0 1 False\n",
      "==========\n",
      "162 1.0 1 False\n",
      "==========\n",
      "163 1.0 0 False\n",
      "==========\n",
      "164 1.0 0 False\n",
      "==========\n",
      "165 1.0 1 False\n",
      "==========\n",
      "166 1.0 1 False\n",
      "==========\n",
      "167 1.0 0 False\n",
      "==========\n",
      "168 1.0 1 False\n",
      "==========\n",
      "169 1.0 1 False\n",
      "==========\n",
      "170 1.0 0 False\n",
      "==========\n",
      "171 1.0 0 False\n",
      "==========\n",
      "172 1.0 1 False\n",
      "==========\n",
      "173 1.0 0 False\n",
      "==========\n",
      "174 1.0 1 False\n",
      "==========\n",
      "175 1.0 0 False\n",
      "==========\n",
      "176 1.0 1 False\n",
      "==========\n",
      "177 1.0 0 False\n",
      "==========\n",
      "178 1.0 1 False\n",
      "==========\n",
      "179 1.0 1 False\n",
      "==========\n",
      "180 1.0 1 False\n",
      "==========\n",
      "181 1.0 0 False\n",
      "==========\n",
      "182 1.0 0 False\n",
      "==========\n",
      "183 1.0 0 False\n",
      "==========\n",
      "184 1.0 0 False\n",
      "==========\n",
      "185 1.0 1 False\n",
      "==========\n",
      "186 1.0 0 False\n",
      "==========\n",
      "187 1.0 1 False\n",
      "==========\n",
      "188 1.0 0 False\n",
      "==========\n",
      "189 1.0 1 False\n",
      "==========\n",
      "190 1.0 0 False\n",
      "==========\n",
      "191 1.0 1 False\n",
      "==========\n",
      "192 1.0 0 False\n",
      "==========\n",
      "193 1.0 0 False\n",
      "==========\n",
      "194 1.0 1 False\n",
      "==========\n",
      "195 1.0 1 False\n",
      "==========\n",
      "196 1.0 0 False\n",
      "==========\n",
      "197 1.0 1 False\n",
      "==========\n",
      "198 1.0 0 False\n",
      "==========\n",
      "199 1.0 1 False\n",
      "==========\n",
      "CartPole-v1 - Steps: 200, Return: 200.0\n"
     ]
    }
   ],
   "source": [
    "env, env_params = gymnax.make(\n",
    "        configs.train_config.env_name,\n",
    "        **configs.train_config.env_kwargs,\n",
    "    )\n",
    "env_params.replace(**configs.train_config.env_params)\n",
    "state_seq, cum_rewards = rollout_episode(\n",
    "    env, env_params, model, model_params\n",
    ")"
   ]
  },
  {
   "cell_type": "code",
   "execution_count": 19,
   "metadata": {},
   "outputs": [
    {
     "data": {
      "image/png": "[encoded data removed]",
      "text/plain": [
       "<Figure size 600x500 with 1 Axes>"
      ]
     },
     "metadata": {
      "image/png": {
       "height": 416,
       "width": 578
      }
     },
     "output_type": "display_data"
    }
   ],
   "source": [
    "vis = Visualizer(env, env_params, state_seq, cum_rewards)\n",
    "vis.animate(osp.join(\"results\",\"CartPole-v1.gif\"))"
   ]
  }
 ],
 "metadata": {
  "kernelspec": {
   "display_name": "Python 3 (ipykernel)",
   "language": "python",
   "name": "python3"
  },
  "language_info": {
   "codemirror_mode": {
    "name": "ipython",
    "version": 3
   },
   "file_extension": ".py",
   "mimetype": "text/x-python",
   "name": "python",
   "nbconvert_exporter": "python",
   "pygments_lexer": "ipython3",
   "version": "3.10.16"
  }
 },
 "nbformat": 4,
 "nbformat_minor": 4
}
