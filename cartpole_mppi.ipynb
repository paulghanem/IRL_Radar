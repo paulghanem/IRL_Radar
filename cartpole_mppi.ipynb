{
 "cells": [
  {
   "cell_type": "code",
   "execution_count": 123,
   "metadata": {
    "ExecuteTime": {
     "end_time": "2025-01-07T23:08:23.825375Z",
     "start_time": "2025-01-07T23:08:22.802397Z"
    },
    "collapsed": false,
    "jupyter": {
     "outputs_hidden": false
    },
    "pycharm": {
     "is_executing": true
    }
   },
   "outputs": [
    {
     "name": "stdout",
     "output_type": "stream",
     "text": [
      "The autoreload extension is already loaded. To reload it, use:\n",
      "  %reload_ext autoreload\n"
     ]
    }
   ],
   "source": [
    "%matplotlib inline\n",
    "%load_ext autoreload\n",
    "%autoreload 2\n",
    "%config InlineBackend.figure_format = 'retina'"
   ]
  },
  {
   "cell_type": "code",
   "execution_count": 124,
   "metadata": {
    "ExecuteTime": {
     "end_time": "2025-01-07T23:08:28.165353Z",
     "start_time": "2025-01-07T23:08:23.828375Z"
    },
    "collapsed": false,
    "jupyter": {
     "outputs_hidden": false
    }
   },
   "outputs": [
    {
     "data": {
      "text/plain": [
       "(4, [CpuDevice(id=0), CpuDevice(id=1), CpuDevice(id=2), CpuDevice(id=3)])"
      ]
     },
     "execution_count": 124,
     "metadata": {},
     "output_type": "execute_result"
    }
   ],
   "source": [
    "import os\n",
    "import os.path as osp\n",
    "\n",
    "# Set the number of (emulated) host devices\n",
    "num_devices = 4\n",
    "os.environ['XLA_FLAGS'] = f\"--xla_force_host_platform_device_count={num_devices}\"\n",
    "\n",
    "import numpy as np\n",
    "\n",
    "import jax\n",
    "import jax.numpy as jnp\n",
    "from jax import lax\n",
    "import gymnax\n",
    "from gymnax.visualize import Visualizer\n",
    "from tqdm import tqdm\n",
    "\n",
    "jax.device_count(), jax.devices()"
   ]
  },
  {
   "cell_type": "code",
   "execution_count": 125,
   "metadata": {
    "ExecuteTime": {
     "end_time": "2025-01-07T23:08:37.783669Z",
     "start_time": "2025-01-07T23:08:28.157339Z"
    },
    "collapsed": false,
    "jupyter": {
     "outputs_hidden": false
    }
   },
   "outputs": [],
   "source": [
    "from functools import partial\n",
    "\n",
    "from utils.models import get_model_ready\n",
    "from utils.helpers import load_config, save_pkl_object\n",
    "\n",
    "\n",
    "from src.control.dynamics import get_state,get_step_model,kinematics,get_action_space\n",
    "from src.control.MPPI import MPPI_wrapper,weighting,MPPI_scores_wrapper,MPPI_control,weighting\n",
    "from src.objective_fns.cost_to_go_fns import get_cost\n",
    "from src.objective_fns.objectives import MPC_decorator"
   ]
  },
  {
   "cell_type": "code",
   "execution_count": 126,
   "metadata": {},
   "outputs": [],
   "source": [
    "gym_env = \"Pendulum-v1\""
   ]
  },
  {
   "cell_type": "code",
   "execution_count": 127,
   "metadata": {},
   "outputs": [],
   "source": [
    "dynamic_rollout = jax.jit(partial(kinematics,step_fn=get_step_model(gym_env)))\n",
    "\n",
    "mppi = MPPI_wrapper(dynamic_rollout)\n",
    "\n",
    "mpc_obj = MPC_decorator(get_cost(gym_env),dynamic_rollout,0.99)\n",
    "\n",
    "mppi_scores = MPPI_scores_wrapper(mpc_obj)\n",
    "\n",
    "weight_fn = weighting()"
   ]
  },
  {
   "cell_type": "code",
   "execution_count": 128,
   "metadata": {},
   "outputs": [],
   "source": [
    "class Args(object):\n",
    "  def __init__(self):\n",
    "    pass\n",
    "\n",
    "args = Args()\n",
    "\n",
    "args.num_traj = 250\n",
    "args.horizon = 120\n",
    "args.MPPI_iterations=100\n",
    "\n",
    "episode_length = 150"
   ]
  },
  {
   "cell_type": "code",
   "execution_count": 129,
   "metadata": {},
   "outputs": [],
   "source": [
    "random_key = jax.random.PRNGKey(123)"
   ]
  },
  {
   "cell_type": "code",
   "execution_count": 130,
   "metadata": {},
   "outputs": [],
   "source": [
    "if gym_env == \"CartPole-v1\":\n",
    "  state = jnp.array([1.5,0.04,0.02,-0.05])\n",
    "if gym_env == \"Pendulum-v1\":\n",
    "  state = jnp.array([0.93332462, -0.35903364])\n",
    "  \n",
    "U = jnp.array(np.random.randn(15,args.horizon,1)*0.2)\n",
    "U_nominal = U.mean(axis=0)\n",
    "\n",
    "cov = jnp.eye(args.horizon)*1.0"
   ]
  },
  {
   "cell_type": "code",
   "execution_count": 131,
   "metadata": {
    "scrolled": true
   },
   "outputs": [
    {
     "name": "stderr",
     "output_type": "stream",
     "text": [
      "t: 151 State: [6.1847315  0.54768913] Action: [2.] Cost: 0.03968949128782624: 100%|█████████████████████████████████████████████████████████████████████| 150/150 [00:55<00:00,  2.71it/s]\n"
     ]
    }
   ],
   "source": [
    "state_seq_mppi = [get_state(state,action=U_nominal[-1],time=0,env_name=gym_env)]\n",
    "                  \n",
    "                \n",
    "rewards = [get_cost(env_name=gym_env)(state)]\n",
    "\n",
    "pbar = tqdm(total=episode_length, desc=\"Starting\")\n",
    "\n",
    "for i in range(1,episode_length+1):\n",
    "  (U_nominal,cov_prime), (states,states_MPPI), cost_MPPI, key = MPPI_control(state,U_nominal,cov,random_key,\n",
    "              dynamic_rollout,get_action_space(gym_env),\n",
    "              mppi,mppi_scores,weight_fn,\n",
    "              method=None,state_train=None,\n",
    "              args=args)\n",
    "  \n",
    "  state = states[0]\n",
    "  rewards.append(get_cost(env_name=gym_env)(state))\n",
    "  state_seq_mppi.append(get_state(state,action=U_nominal[-1],time=i,env_name=gym_env))\n",
    "\n",
    "# print(U_nominal.shape)\n",
    "# print(\"U: \",U_nominal)\n",
    "  pbar.set_description(f\"t: {i+1} State: {state} Action: {U_nominal[0]} Cost: {get_cost(env_name=gym_env)(state)}\")\n",
    "  pbar.update(1)\n",
    "  \n",
    "pbar.close()\n",
    "\n",
    "rewards = np.array(rewards)\n"
   ]
  },
  {
   "cell_type": "code",
   "execution_count": 132,
   "metadata": {},
   "outputs": [],
   "source": [
    "base =  osp.join(\"expert_agents\",gym_env,\"ppo\")\n",
    "configs = load_config(base + \".yaml\")"
   ]
  },
  {
   "cell_type": "code",
   "execution_count": 133,
   "metadata": {},
   "outputs": [
    {
     "data": {
      "text/plain": [
       "EnvParams(max_steps_in_episode=200, max_speed=8.0, max_torque=2.0, dt=0.05, g=10.0, m=1.0, l=1.0)"
      ]
     },
     "execution_count": 133,
     "metadata": {},
     "output_type": "execute_result"
    }
   ],
   "source": [
    "env, env_params = gymnax.make(\n",
    "        configs.train_config.env_name,\n",
    "        **configs.train_config.env_kwargs,\n",
    "    )\n",
    "env_params.replace(**configs.train_config.env_params)"
   ]
  },
  {
   "cell_type": "code",
   "execution_count": 135,
   "metadata": {},
   "outputs": [
    {
     "data": {
      "image/png": "[encoded data removed]",
      "text/plain": [
       "<Figure size 600x500 with 1 Axes>"
      ]
     },
     "metadata": {
      "image/png": {
       "height": 474,
       "width": 449
      }
     },
     "output_type": "display_data"
    }
   ],
   "source": [
    "vis = Visualizer(env, env_params, state_seq_mppi, rewards)\n",
    "vis.animate(osp.join(\"results\",f\"{gym_env}-mppi.gif\"))"
   ]
  },
  {
   "cell_type": "markdown",
   "metadata": {},
   "source": [
    "## Random Action Demo"
   ]
  },
  {
   "cell_type": "code",
   "execution_count": null,
   "metadata": {},
   "outputs": [],
   "source": [
    "if gym_env == \"CartPole-v1\":\n",
    "  state = jnp.array([1.5,0.04,0.02,-0.05])\n",
    "if gym_env == \"Pendulum-v1\":\n",
    "  state = jnp.array([0.93332462, -0.35903364])\n",
    "  \n",
    "U = jnp.array(np.random.randn(15,args.horizon,1)*0.2)\n",
    "U_nominal = U.mean(axis=0)\n",
    "\n",
    "cov = jnp.eye(args.horizon)*1.5"
   ]
  },
  {
   "cell_type": "code",
   "execution_count": null,
   "metadata": {
    "scrolled": true
   },
   "outputs": [],
   "source": [
    "state_seq_random = [get_state(state,action=U_nominal[-1],time=0,env_name=gym_env)]\n",
    "rewards = [get_cost(env_name=gym_env)(state)]\n",
    "pbar = tqdm(total=episode_length, desc=\"Starting\")\n",
    "\n",
    "for i in range(1,episode_length+1):\n",
    "  action = jnp.array(np.random.randn(1,))*5\n",
    "  action = jnp.clip(action,-10,10)\n",
    "\n",
    "  \n",
    "  state = get_step_model(gym_env)(action,state)\n",
    "  \n",
    "  rewards.append(get_cost(env_name=gym_env)(state))\n",
    "  state_seq_random.append(get_state(state,action=action,time=i,env_name=gym_env))\n",
    "\n",
    "# print(U_nominal.shape)\n",
    "# print(\"U: \",U_nominal)\n",
    "  # print(\"State: \",state, \"Action: \",action)\n",
    "  pbar.set_description(f\"t: {i+1} State: {state} Action: {U_nominal[0]}\")\n",
    "  pbar.update(1)\n",
    "  \n",
    "pbar.close()\n",
    "\n",
    "rewards = np.array(rewards)"
   ]
  },
  {
   "cell_type": "code",
   "execution_count": null,
   "metadata": {},
   "outputs": [],
   "source": [
    "vis = Visualizer(env, env_params, state_seq_random,rewards)\n",
    "vis.animate(osp.join(\"results\",f\"{gym_env}-random.gif\"))"
   ]
  },
  {
   "cell_type": "markdown",
   "metadata": {},
   "source": [
    "## Expert Demo"
   ]
  },
  {
   "cell_type": "code",
   "execution_count": 141,
   "metadata": {},
   "outputs": [],
   "source": [
    "from utils.models import load_neural_network"
   ]
  },
  {
   "cell_type": "code",
   "execution_count": 142,
   "metadata": {},
   "outputs": [
    {
     "name": "stdout",
     "output_type": "stream",
     "text": [
      "Loaded data from expert_agents\\Pendulum-v1\\ppo.pkl.\n"
     ]
    }
   ],
   "source": [
    "gym_env = \"Pendulum-v1\"\n",
    "base =  osp.join(\"expert_agents\",gym_env,\"ppo\")\n",
    "configs = load_config(base + \".yaml\")\n",
    "model, model_params = load_neural_network(\n",
    "    configs.train_config, base + \".pkl\"\n",
    ")"
   ]
  },
  {
   "cell_type": "code",
   "execution_count": 143,
   "metadata": {},
   "outputs": [],
   "source": [
    "episode_length = 200"
   ]
  },
  {
   "cell_type": "code",
   "execution_count": 144,
   "metadata": {},
   "outputs": [],
   "source": [
    "def rollout_episode(env, env_params, model, model_params, max_frames=200):\n",
    "    state_seq = []\n",
    "    rng = jax.random.PRNGKey(0)\n",
    "\n",
    "    rng, rng_reset = jax.random.split(rng)\n",
    "    obs, env_state = env.reset(rng_reset, env_params)\n",
    "\n",
    "    if gym_env == \"CartPole-v1\":\n",
    "      obs = jnp.array([1.5,0.04,0.02,-0.05])\n",
    "      env_state = get_state(obs,time=0,env_name=gym_env)\n",
    "\n",
    "\n",
    "  \n",
    "    if model is not None:\n",
    "        if model.model_name == \"LSTM\":\n",
    "            hidden = model.initialize_carry()\n",
    "\n",
    "    t_counter = 0\n",
    "    reward_seq = []\n",
    "    while True:\n",
    "        state_seq.append(env_state)\n",
    "        rng, rng_act, rng_step = jax.random.split(rng, 3)\n",
    "\n",
    "        if model.model_name.startswith(\"separate\"):\n",
    "            v, pi = model.apply(model_params, obs, rng_act)\n",
    "            action = pi.sample(seed=rng_act)\n",
    "\n",
    "        else:\n",
    "            action = model.apply(model_params, obs, rng_act)\n",
    "\n",
    "        next_obs, next_env_state, reward, done, info = env.step(\n",
    "            rng_step, env_state,action, env_params\n",
    "        )\n",
    "      \n",
    "        reward_seq.append(reward)\n",
    "        print(t_counter, reward, obs, env_state.theta,action, done)\n",
    "        print(10 * \"=\")\n",
    "        t_counter += 1\n",
    "        if done or t_counter == max_frames:\n",
    "            break\n",
    "        else:\n",
    "            env_state = next_env_state\n",
    "            obs = next_obs\n",
    "    print(f\"{env.name} - Steps: {t_counter}, Return: {np.sum(reward_seq)}\")\n",
    "    return state_seq, np.cumsum(reward_seq)"
   ]
  },
  {
   "cell_type": "code",
   "execution_count": 145,
   "metadata": {
    "scrolled": true
   },
   "outputs": [
    {
     "name": "stdout",
     "output_type": "stream",
     "text": [
      "0 -5.477141025831801 [-0.69552635  0.71850059 -0.113958  ] 2.339948539557192 [0.69513696] False\n",
      "==========\n",
      "1 -5.6288185333149965 [-0.71429177  0.69984803  0.52918798] 2.366407938505616 [0.96333285] False\n",
      "==========\n",
      "2 -6.034767411785521 [-0.75492537  0.65581071  1.19857393] 2.4263366348861566 [2.61142046] False\n",
      "==========\n",
      "3 -6.7801417530121 [-0.8163495   0.57755822  1.99043196] 2.525858233011748 [7.42808655] False\n",
      "==========\n",
      "4 -7.832247760012119 [-0.88720061  0.46138388  2.72360063] 2.662038264457104 [3.78470814] False\n",
      "==========\n",
      "5 -9.151290938730613 [-0.95200586  0.3060798   3.36963854] 2.830520191219843 [5.69151408] False\n",
      "==========\n",
      "6 -10.673904984224027 [-0.99326651  0.11585181  3.89919839] 3.025480110584939 [-0.01668308] False\n",
      "==========\n",
      "7 -10.945475805120088 [-0.99655195 -0.0829712   3.98358478] 3.2246593497779727 [10.22748864] False\n",
      "==========\n",
      "8 -9.894002820224271 [-0.95705341 -0.28991164  4.22135638] 3.4357271689189868 [5.41152475] False\n",
      "==========\n",
      "9 -8.785178284694428 [-0.87307107 -0.48759296  4.30392265] 3.6509233014194313 [7.71436199] False\n",
      "==========\n",
      "10 -7.6583546685357335 [-0.75098616 -0.66031794  4.23822793] 3.8628346977647543 [2.82315957] False\n",
      "==========\n",
      "11 -6.558992666363544 [-0.60311838 -0.79765169  4.04298947] 4.06498417139569 [7.06310843] False\n",
      "==========\n",
      "12 -5.531128930899886 [-0.44409799 -0.89597822  3.7447507 ] 4.252221706640787 [4.75436729] False\n",
      "==========\n",
      "13 -4.609811080396442 [-0.28741697 -0.95780556  3.37276704] 4.420860058481088 [2.91219383] False\n",
      "==========\n",
      "14 -3.816724492393242 [-0.14331311 -0.9896774   2.95441287] 4.568580701931397 [4.21674004] False\n",
      "==========\n",
      "15 -3.1600032187486478 [-0.01819953 -0.99983437  2.51215482] 4.6941884429595095 [3.87744788] False\n",
      "==========\n",
      "16 -2.6371475125698582 [ 0.08481141 -0.99639702  2.06227904] 4.797302394932964 [3.88850966] False\n",
      "==========\n",
      "17 -2.239217583725343 [ 0.16490578 -0.98630933  1.61498127] 4.8780514585937365 [3.78193496] False\n",
      "==========\n",
      "18 -1.9548369921689615 [ 0.22254576 -0.97492224  1.17524928] 4.936813922555538 [3.71276308] False\n",
      "==========\n",
      "19 -1.773284344631321 [ 0.25865332 -0.96597022  0.7440576 ] 4.974016802331936 [3.44624003] False\n",
      "==========\n",
      "20 -1.6865522374641673 [ 0.27405488 -0.96171405  0.31957993] 4.9899957989864765 [3.32682247] False\n",
      "==========\n",
      "21 -1.6905518297613717 [ 0.26916077 -0.96309526 -0.10170561] 4.984910518588134 [3.28515163] False\n",
      "==========\n",
      "22 -1.78569748387889 [ 0.24383687 -0.96981626 -0.52402705] 4.9587091659521585 [3.07630129] False\n",
      "==========\n",
      "23 -1.977023288532548 [ 0.1974448  -0.98031401 -0.95138925] 4.911139703555487 [2.83473059] False\n",
      "==========\n",
      "24 -2.2738400188784973 [ 0.1290585  -0.99163698 -1.38662475] 4.841808465934675 [2.20470627] False\n",
      "==========\n",
      "25 -2.6868001253117955 [ 0.03789279 -0.99928181 -1.83035249] 4.750290841521606 [1.41973918] False\n",
      "==========\n",
      "26 -3.2867950504951384 [-0.08035406 -0.99676638 -2.36685297] 4.631948193064883 [-0.10837765] False\n",
      "==========\n",
      "27 -4.249907955303313 [-0.23476325 -0.97205258 -3.1306844 ] 4.475413972823074 [-1.32373476] False\n",
      "==========\n",
      "28 -5.692752735512043 [-0.42583923 -0.90479885 -4.05828405] 4.272499770199826 [-1.71156707] False\n",
      "==========\n",
      "29 -7.6068788072485765 [-0.63620558 -0.77151958 -4.99361825] 4.022818857755285 [-3.34311076] False\n",
      "==========\n",
      "30 -9.97515182103191 [-0.83226617 -0.55437624 -5.87225793] 3.7292059611860746 [-3.3886649] False\n",
      "==========\n",
      "31 -12.658115269929857 [-0.96684827 -0.25535156 -6.58804011] 3.399803955602248 [-2.17072229] False\n",
      "==========\n",
      "32 -14.293065822035533 [-0.9954179   0.09562007 -7.07955378] 3.0458262664528717 [-4.0255301] False\n",
      "==========\n",
      "33 -12.529178886244782 [-0.89553766  0.44498573 -7.30783873] 2.6804343300079156 [-4.21258432] False\n",
      "==========\n",
      "34 -10.662487176195608 [-0.67865738  0.73445501 -7.27409943] 2.3167293583496975 [-2.14688666] False\n",
      "==========\n",
      "35 -8.796787691192979 [-0.384596    0.923085   -7.02325817] 1.9655664496945837 [-0.84893252] False\n",
      "==========\n",
      "36 -6.870093116707333 [-0.07179409  0.99741947 -6.4582843 ] 1.6426522345869905 [0.91822664] False\n",
      "==========\n",
      "37 -4.96737706848683 [ 0.20529819  0.97869947 -5.5724857 ] 1.364027949624638 [1.24303431] False\n",
      "==========\n",
      "38 -3.4460388848941985 [ 0.42536819  0.90502039 -4.65200595] 1.1314276521329898 [1.33955857] False\n",
      "==========\n",
      "39 -2.3141467706844114 [ 0.58751459  0.80921357 -3.77230687] 0.9428123084929835 [1.49057284] False\n",
      "==========\n",
      "40 -1.5002213500599773 [ 0.69976934  0.71436886 -2.94181077] 0.7957217700235012 [1.2740308] False\n",
      "==========\n",
      "41 -0.9611795872343416 [ 0.77443468  0.63265388 -2.2149295 ] 0.684975294939952 [1.18201642] False\n",
      "==========\n",
      "42 -0.6125736940730223 [ 0.82146647  0.57025683 -1.56313663] 0.6068184634843716 [0.07371784] False\n",
      "==========\n",
      "43 -0.4303270110189484 [ 0.8522112   0.52319792 -1.12438633] 0.5505991467951374 [-0.86204861] False\n",
      "==========\n",
      "44 -0.3338645465110193 [ 0.87394551  0.48602392 -0.86129518] 0.5075343876162373 [-1.44583975] False\n",
      "==========\n",
      "45 -0.2762247541201407 [ 0.89072814  0.45453645 -0.71365321] 0.4718517271707115 [-1.62806985] False\n",
      "==========\n",
      "46 -0.23527489310117056 [ 0.90432371  0.42684731 -0.61696135] 0.44100365971664196 [-1.65122215] False\n",
      "==========\n",
      "47 -0.20332301330271899 [ 0.91560825  0.40207154 -0.54450919] 0.4137782003749786 [-1.56894511] False\n",
      "==========\n",
      "48 -0.1788702508114333 [ 0.92496101  0.38006201 -0.4782973 ] 0.389863335531136 [-2.03996862] False\n",
      "==========\n",
      "49 -0.1613637382512541 [ 0.93405207  0.35713686 -0.49325079] 0.36520079603858285 [-1.91376139] False\n",
      "==========\n",
      "50 -0.14401983082815223 [ 0.94289542  0.33308892 -0.51246236] 0.3395776782124349 [-1.56367023] False\n",
      "==========\n",
      "51 -0.12630858590054 [ 0.95088375  0.30954821 -0.4971962 ] 0.31471786799814294 [-1.59400217] False\n",
      "==========\n",
      "52 -0.11136641911718423 [ 0.95838356  0.2854837  -0.50413537] 0.2895110993637516 [-1.46099112] False\n",
      "==========\n",
      "53 -0.09648382437726226 [ 0.96534022  0.26099476 -0.50917126] 0.26405253623737734 [-0.91353436] False\n",
      "==========\n",
      "54 -0.07978282020687853 [ 0.97097321  0.23918827 -0.45045535] 0.24152976893772257 [-1.07479721] False\n",
      "==========\n",
      "55 -0.06768432287929639 [ 0.97591587  0.21814724 -0.43228373] 0.21991558267500783 [-0.7965786] False\n",
      "==========\n",
      "56 -0.056264587022195243 [ 0.97996561  0.19916677 -0.38816009] 0.20050757840836064 [-0.99723259] False\n",
      "==========\n",
      "57 -0.048454242238877475 [ 0.98364813  0.18010095 -0.3883699 ] 0.18108908343521815 [-0.76017644] False\n",
      "==========\n",
      "58 -0.040229723187572265 [ 0.98678979  0.16200588 -0.36732065] 0.1627230509777688 [-0.50841512] False\n",
      "==========\n",
      "59 -0.03250541677916065 [ 0.98927066  0.14609437 -0.32207851] 0.14661912569217797 [-0.79673859] False\n",
      "==========\n",
      "60 -0.028042506847302667 [ 0.99155953  0.12965219 -0.33201851] 0.13001820002966338 [-0.33785381] False\n",
      "==========\n",
      "61 -0.021627529696156205 [ 0.99330898  0.11548706 -0.28545744] 0.11574532791137748 [-0.28627543] False\n",
      "==========\n",
      "62 -0.016841993382720282 [ 0.99463251  0.10347063 -0.24178346] 0.10365615485653659 [-0.50146858] False\n",
      "==========\n",
      "63 -0.014171710692367308 [ 0.99579977  0.09155771 -0.23940078] 0.091686116096308 [-0.18464477] False\n",
      "==========\n",
      "64 -0.01088458352598786 [ 0.99665913  0.08167358 -0.19842921] 0.08176465579079349 [-0.51157561] False\n",
      "==========\n",
      "65 -0.009800675285706616 [ 0.99747565  0.07100933 -0.21391036] 0.07106913767364569 [-0.41723931] False\n",
      "==========\n",
      "66 -0.008577291731899422 [ 0.9982061   0.05987135 -0.22323926] 0.05990717445380188 [-0.06960793] False\n",
      "==========\n",
      "67 -0.006110726371786503 [ 0.99872674  0.05044691 -0.18877694] 0.050468327292921666 [0.00093967] False\n",
      "==========\n",
      "68 -0.004238713571568555 [ 0.99907872  0.0429151  -0.15080081] 0.04292828663601672 [-0.34898031] False\n",
      "==========\n",
      "69 -0.004110095197258758 [ 0.99940906  0.03437344 -0.17096153] 0.034380210044228 [0.07288222] False\n",
      "==========\n",
      "70 -0.002569003901198033 [ 0.99961727  0.02766422 -0.13424912] 0.027667754001187792 [-0.03488043] False\n",
      "==========\n",
      "71 -0.0018882950748966222 [ 0.99976389  0.02172939 -0.11873302] 0.021731103124399808 [0.07938064] False\n",
      "==========\n",
      "72 -0.001117911408446464 [ 0.999852    0.01720381 -0.09052888] 0.017204659303839034 [0.0486144] False\n",
      "==========\n",
      "73 -0.0006832271673737223 [ 0.99990632  0.01368754 -0.07033386] 0.013687966407548593 [0.0343742] False\n",
      "==========\n",
      "74 -0.00042190045503618073 [ 0.99994013  0.01094214 -0.05491207] 0.010942362755896154 [0.02513117] False\n",
      "==========\n",
      "75 -0.00029127445904570477 [ 0.99996132  0.00879546 -0.04293579] 0.00879557331938159 [-0.1719423] False\n",
      "==========\n",
      "76 -0.0004246748196428445 [ 0.99998382  0.00568902 -0.06213054] 0.005689046398982527 [0.07930442] False\n",
      "==========\n",
      "77 -0.00023095088478322453 [ 0.99999425  0.00339063 -0.04596811] 0.0033906406891412106 [0.09026455] False\n",
      "==========\n",
      "78 -9.292207560587343e-05 [ 0.9999982   0.00189637 -0.02988546] 0.0018963678546269002 [-0.00343692] False\n",
      "==========\n",
      "79 -9.333318683951003e-05 [ 9.99999900e-01  4.47431870e-04 -2.89787194e-02] 0.00044743188510164685 [-0.09568894] False\n",
      "==========\n",
      "80 -0.0002702299941917334 [ 0.99999855 -0.00170239 -0.04299649] -0.0017023924611605386 [0.28716209] False\n",
      "==========\n",
      "81 -1.38276800855194e-05 [ 0.99999845 -0.00176234 -0.00119897] -0.0017623408270356147 [-0.10284981] False\n",
      "==========\n",
      "82 -3.940397875703253e-05 [ 0.99999646 -0.00265975 -0.01794819] -0.002659750486093057 [-0.01076765] False\n",
      "==========\n",
      "83 -6.088190508689028e-05 [ 0.99999301 -0.00373765 -0.02155815] -0.003737658037231414 [0.02089091] False\n",
      "==========\n",
      "84 -7.104852262614862e-05 [ 0.99998848 -0.00479903 -0.02122775] -0.004799045647357312 [0.05436853] False\n",
      "==========\n",
      "85 -6.077479348061573e-05 [ 0.99998414 -0.0056326  -0.01667174] -0.0056326327973183505 [-0.03540536] False\n",
      "==========\n",
      "86 -0.0001230969360363014 [ 0.9999759  -0.00694293 -0.026207  ] -0.006942982789010507 [0.07881143] False\n",
      "==========\n",
      "87 -0.00015486436834786862 [ 0.99996862 -0.00792252 -0.01959248] -0.007922606794711129 [0.23175449] False\n",
      "==========\n",
      "88 -8.861879436922242e-05 [ 0.99997217 -0.0074611   0.0092288 ] -0.0074611667950581035 [-0.15630966] False\n",
      "==========\n",
      "89 -0.00012635829663534064 [ 0.99996428 -0.00845174 -0.01981347] -0.008451840396697287 [-0.12516918] False\n",
      "==========\n",
      "90 -0.000348723269997798 [ 0.99994277 -0.01069802 -0.04492765] -0.010698223075521571 [0.18006079] False\n",
      "==========\n",
      "91 -0.00022614387262905337 [ 0.99992806 -0.01199504 -0.02594205] -0.011995325555764725 [0.12229899] False\n",
      "==========\n",
      "92 -0.0002277447391011183 [ 0.99991776 -0.01282465 -0.01659348] -0.01282499951011496 [0.1890232] False\n",
      "==========\n",
      "93 -0.00017650166421165648 [ 0.99991913 -0.01271758  0.00214152] -0.012717923728182593 [0.11957203] False\n",
      "==========\n",
      "94 -0.00017190704341622044 [ 0.99992569 -0.01219067  0.01053914] -0.012190966973926876 [0.11036318] False\n",
      "==========\n",
      "95 -0.00017727797386398123 [ 0.99993623 -0.0112932   0.01795061] -0.011293436330424865 [-0.13233979] False\n",
      "==========\n",
      "96 -0.0001571020772414655 [ 0.99993024 -0.01181167 -0.01037025] -0.011811948956566112 [-0.08261795] False\n",
      "==========\n",
      "97 -0.0002977565920125786 [ 0.99991031 -0.01339263 -0.0316217 ] -0.013393033979312734 [0.13560988] False\n",
      "==========\n",
      "98 -0.0002996863368125527 [ 0.99989547 -0.01445876 -0.02132469] -0.014459268680463436 [0.21246559] False\n",
      "==========\n",
      "99 -0.00023924855477416404 [ 9.99895250e-01 -1.44737097e-02 -2.98928601e-04] -0.01447421511052957 [0.17244337] False\n",
      "==========\n",
      "100 -0.00021163537488429012 [ 0.99990563 -0.01373817  0.01471229] -0.01373860037955631 [-0.03522887] False\n",
      "==========\n",
      "101 -0.00019622961318995242 [ 9.99905024e-01 -1.37819471e-02 -8.75661847e-04] -0.013782383471918227 [-0.07873272] False\n",
      "==========\n",
      "102 -0.0003505539870796585 [ 0.9998885  -0.01493293 -0.02302203] -0.014933484956156939 [0.27302679] False\n",
      "==========\n",
      "103 -0.00023801514160813974 [ 0.99989347 -0.01459635  0.00673229] -0.014596870373290731 [-0.14287807] False\n",
      "==========\n",
      "104 -0.00032398705231517517 [ 0.99987393 -0.01587854 -0.02564668] -0.01587920448821886 [0.07786325] False\n",
      "==========\n",
      "105 -0.0005243086940004319 [ 0.99985255 -0.01717217 -0.0258761 ] -0.017173009365306476 [0.40303747] False\n",
      "==========\n",
      "106 -0.00031426535766698066 [ 0.99987059 -0.0160873   0.0217004 ] -0.01608798942768418 [-0.09138503] False\n",
      "==========\n",
      "107 -0.0003117064262450602 [ 0.99986729 -0.01629091 -0.00407283] -0.016291630775060035 [0.21125909] False\n",
      "==========\n",
      "108 -0.0002647303335077908 [ 0.99987954 -0.01552111  0.01539785] -0.015521738113778601 [0.00982807] False\n",
      "==========\n",
      "109 -0.0002663906707366526 [ 0.99988357 -0.01525958  0.00523123] -0.01526017670449423 [0.17544544] False\n",
      "==========\n",
      "110 -0.00027174703023879435 [ 0.9998984  -0.01425453  0.02010336] -0.0142550089020832 [0.16771183] False\n",
      "==========\n",
      "111 -0.0002767786780758066 [ 0.99992154 -0.01252622  0.03456924] -0.012526547080243684 [0.01900225] False\n",
      "==========\n",
      "112 -0.00020851357235565724 [ 0.99993811 -0.01112507  0.02802491] -0.011125301607148448 [-0.07875076] False\n",
      "==========\n",
      "113 -0.00017794890204719116 [ 0.99994241 -0.01073167  0.00786849] -0.010731877003347033 [-0.23787476] False\n",
      "==========\n",
      "114 -0.00031613571059419394 [ 0.99992156 -0.01252462 -0.03586148] -0.012524950759416138 [0.17509077] False\n",
      "==========\n",
      "115 -0.0002191001757267834 [ 0.99990922 -0.01347411 -0.01899133] -0.013474517080779035 [0.03834732] False\n",
      "==========\n",
      "116 -0.0002734815342317283 [ 0.99989281 -0.01464123 -0.02334481] -0.014641757576102872 [0.06784139] False\n",
      "==========\n",
      "117 -0.00034024724605803545 [ 0.9998744  -0.01584857 -0.02414953] -0.015849233928659005 [-0.17529707] False\n",
      "==========\n",
      "118 -0.0007926319450922673 [ 0.99982016 -0.01896462 -0.06233052] -0.018965759727880272 [0.21076665] False\n",
      "==========\n",
      "119 -0.000741592697725728 [ 0.99977502 -0.02121112 -0.04493899] -0.021212709005333456 [0.29943686] False\n",
      "==========\n",
      "120 -0.0005151809767615058 [ 0.99975781 -0.02200752 -0.0159318 ] -0.022009298775935736 [0.07341344] False\n",
      "==========\n",
      "121 -0.0006142863909837522 [ 0.99973366 -0.02307852 -0.02142542] -0.023080569793546838 [0.18886192] False\n",
      "==========\n",
      "122 -0.0005724156213201258 [ 0.99972151 -0.02359863 -0.01040502] -0.023600820926102446 [0.06775266] False\n",
      "==========\n",
      "123 -0.0006789530253023609 [ 0.99969994 -0.02449543 -0.0179411 ] -0.024497875715571535 [0.21591392] False\n",
      "==========\n",
      "124 -0.0006129022498559078 [ 0.99969511 -0.02469164 -0.00392558] -0.02469415459137018 [0.03949637] False\n",
      "==========\n",
      "125 -0.000696261377061125 [ 0.99967438 -0.02551738 -0.01651986] -0.02552014740045711 [0.13301462] False\n",
      "==========\n",
      "126 -0.0007166498754557154 [ 0.99965403 -0.0263024  -0.0157057 ] -0.026305432217786917 [0.00268729] False\n",
      "==========\n",
      "127 -0.0010559776032596612 [ 0.99960643 -0.02805322 -0.0350294 ] -0.028056902318532927 [0.38220667] False\n",
      "==========\n",
      "128 -0.0008649206922262304 [ 0.9996082  -0.02799016  0.00126168] -0.02799381823378186 [0.28479405] False\n",
      "==========\n",
      "129 -0.0007755286305820063 [ 0.99963971 -0.02684119  0.02298817] -0.02684440988121443 [-0.045395] False\n",
      "==========\n",
      "130 -0.0007463247006312064 [ 0.99963439 -0.02703871 -0.00395197] -0.027042008519800494 [0.11615794] False\n",
      "==========\n",
      "131 -0.0007851885835051109 [ 0.99962513 -0.02737895 -0.00680732] -0.027382374340411395 [0.17538587] False\n",
      "==========\n",
      "132 -0.0007752183663135811 [ 0.99962371 -0.02743062 -0.00103365] -0.027434056860666193 [0.14994681] False\n",
      "==========\n",
      "133 -0.0008090984530085255 [ 9.99624923e-01 -2.73863619e-02  8.85409973e-04] -0.027389786362030887 [0.24252765] False\n",
      "==========\n",
      "134 -0.0007438323875657749 [ 0.99964748 -0.02655043  0.01672479] -0.026553547058566225 [0.10377707] False\n",
      "==========\n",
      "135 -0.0007197356321094481 [ 0.99966372 -0.02593171  0.01237853] -0.025934620768046007 [0.17834878] False\n",
      "==========\n",
      "136 -0.0006627514233022774 [ 0.99968875 -0.02494793  0.01968206] -0.024950517880796694 [-0.03853234] False\n",
      "==========\n",
      "137 -0.0006724494507643662 [ 0.99968272 -0.02518829 -0.00480874] -0.025190954874851585 [0.18855462] False\n",
      "==========\n",
      "138 -0.0006569657278832024 [ 0.99968847 -0.0249592   0.00458324] -0.024961793106617062 [0.17825265] False\n",
      "==========\n",
      "139 -0.0006153248853330562 [ 0.999704   -0.02432931  0.01260173] -0.024331706479508965 [0.08609633] False\n",
      "==========\n",
      "140 -0.0005814698006609198 [ 0.99971278 -0.02396595  0.0072692 ] -0.0239682463068069 [0.04133809] False\n",
      "==========\n",
      "141 -0.0005875291682689984 [ 0.99970735 -0.02419111 -0.00450455] -0.024193473634519184 [-0.01326302] False\n",
      "==========\n",
      "142 -0.0007302732644939392 [ 0.99967679 -0.0254226  -0.02463734] -0.02542534039780775 [0.15207071] False\n",
      "==========\n",
      "143 -0.0007700415498497021 [ 0.99964969 -0.02646693 -0.02089368] -0.02647002436823587 [0.16038945] False\n",
      "==========\n",
      "144 -0.0007933599320886418 [ 0.99962726 -0.0273009  -0.01668546] -0.02730429746093553 [0.141403] False\n",
      "==========\n",
      "145 -0.0008427810402577736 [ 0.99960517 -0.02809813 -0.01595069] -0.02810183198490942 [0.16620959] False\n",
      "==========\n",
      "146 -0.0008551788225781732 [ 0.999588   -0.02870253 -0.01209285] -0.02870647461203169 [0.12842675] False\n",
      "==========\n",
      "147 -0.0009505950950097858 [ 0.99956714 -0.02942002 -0.01435574] -0.02942426158192335 [0.25337561] False\n",
      "==========\n",
      "148 -0.0008892637888590352 [ 0.99956947 -0.02934077  0.00158559] -0.029344982069511236 [0.16698625] False\n",
      "==========\n",
      "149 -0.0008841620663520662 [ 0.99957623 -0.02910947  0.00462795] -0.029113584605804717 [0.18552484] False\n",
      "==========\n",
      "150 -0.0008616748260662598 [ 0.99959155 -0.02857846  0.01062457] -0.02858235604103448 [0.18285403] False\n",
      "==========\n",
      "151 -0.0008732680726413261 [ 0.99961495 -0.02774785  0.01661883] -0.02775141464010731 [0.27478813] False\n",
      "==========\n",
      "152 -0.0008256516864130486 [ 0.99966461 -0.02589721  0.03702616] -0.02590010677765704 [0.13320106] False\n",
      "==========\n",
      "153 -0.0007694645177153875 [ 0.99971151 -0.02401863  0.03758341] -0.024020936359775636 [0.22629157] False\n",
      "==========\n",
      "154 -0.0007460510734674597 [ 0.9997722  -0.02134366  0.05351317] -0.021345277638606327 [-0.06375117] False\n",
      "==========\n",
      "155 -0.0004941345630058211 [ 0.99980104 -0.01994682  0.02794276] -0.01994813985916551 [-0.13463477] False\n",
      "==========\n",
      "156 -0.0004227877730887396 [ 0.99979378 -0.02030737 -0.00721257] -0.0203087684572455 [0.07169085] False\n",
      "==========\n",
      "157 -0.0004573606323953972 [ 0.99978174 -0.02089172 -0.01168947] -0.02089324217641258 [0.08466807] False\n",
      "==========\n",
      "158 -0.0005703494591653985 [ 0.99976616 -0.02162446 -0.01465806] -0.021626144926556696 [0.28490956] False\n",
      "==========\n",
      "159 -0.0005272269906674687 [ 0.99977881 -0.02103159  0.01186003] -0.021033143201559353 [0.26602225] False\n",
      "==========\n",
      "160 -0.0005029751397386357 [ 0.99981504 -0.01923247  0.03598968] -0.019233659339709976 [0.05929419] False\n",
      "==========\n",
      "161 -0.0004190340452962701 [ 0.99984317 -0.01770976  0.03045945] -0.017710686782965047 [-0.11219538] False\n",
      "==========\n",
      "162 -0.0003138510987900523 [ 9.99843478e-01 -1.76923724e-02  3.47823892e-04] -0.017693295588369067 [-0.0280409] False\n",
      "==========\n",
      "163 -0.00037431003730473605 [ 0.99982796 -0.01854861 -0.01712759] -0.018549675082974247 [0.0297348] False\n",
      "==========\n",
      "164 -0.0005956725789257695 [ 0.99980243 -0.01987731 -0.02657883] -0.01987861653455942 [0.36037448] False\n",
      "==========\n",
      "165 -0.0003980380163144657 [ 0.99981472 -0.01924896  0.01256936] -0.01925014838608289 [0.10803201] False\n",
      "==========\n",
      "166 -0.00036416445040406663 [ 0.99982826 -0.01853222  0.01433744] -0.018533276154074522 [-0.01122023] False\n",
      "==========\n",
      "167 -0.00034728579482496086 [ 0.99982711 -0.01859444 -0.00124475] -0.018595513703125545 [0.03657492] False\n",
      "==========\n",
      "168 -0.00037695726609022074 [ 0.99981797 -0.01907957 -0.00970435] -0.0190807309619877 [0.05886884] False\n",
      "==========\n",
      "169 -0.00042704191864891136 [ 0.9998032  -0.01983861 -0.0151837 ] -0.01983991590298584 [0.10180955] False\n",
      "==========\n",
      "170 -0.00044836434394316717 [ 0.99978825 -0.02057802 -0.01479123] -0.020579477251657145 [-0.05451074] False\n",
      "==========\n",
      "171 -0.0006697230058231019 [ 0.9997469  -0.02249765 -0.03840136] -0.02249954505307755 [0.12659804] False\n",
      "==========\n",
      "172 -0.0007599712516628718 [ 0.99970443 -0.02431139 -0.03628489] -0.024313789308295405 [0.19274754] False\n",
      "==========\n",
      "173 -0.0009247209191270418 [ 0.99967249 -0.02559131 -0.0256063 ] -0.025594104315753142 [0.45176817] False\n",
      "==========\n",
      "174 -0.0007019553864467563 [ 0.99970122 -0.0244434   0.02296544] -0.02444583215139075 [0.22719049] False\n",
      "==========\n",
      "175 -0.0006812021765593103 [ 0.99974665 -0.02250836  0.03871147] -0.022510258722242306 [0.15694792] False\n",
      "==========\n",
      "176 -0.0006228950854344018 [ 0.99979515 -0.02024026  0.04537239] -0.02024163932632228 [0.08547376] False\n",
      "==========\n",
      "177 -0.0005185893092862424 [ 0.99983636 -0.01808999  0.04301326] -0.018090976344405898 [0.07932108] False\n",
      "==========\n",
      "178 -0.00043610152552891595 [ 0.99987162 -0.01602309  0.04134393] -0.016023779871069375 [-0.0916949] False\n",
      "==========\n",
      "179 -0.0002605709760328418 [ 0.99988379 -0.01524457  0.01557237] -0.015245161142575386 [-0.06249922] False\n",
      "==========\n",
      "180 -0.0002622947916876978 [ 0.99987977 -0.01550634 -0.00523594] -0.015506957979846237 [0.13815767] False\n",
      "==========\n",
      "181 -0.00024035505385243603 [ 0.99988274 -0.01531346  0.00385796] -0.015314059890465147 [0.06592599] False\n",
      "==========\n",
      "182 -0.00024818142698751375 [ 0.99988447 -0.01520039  0.00226176] -0.015200971649976852 [0.12884227] False\n",
      "==========\n",
      "183 -0.00024148982375789895 [ 0.99989208 -0.01469105  0.01018782] -0.014691580887819715 [0.12356422] False\n",
      "==========\n",
      "184 -0.00023447656968161577 [ 0.99990469 -0.01380593  0.01770416] -0.013806372928839858 [0.111879] False\n",
      "==========\n",
      "185 -0.00021877613201089864 [ 0.99992062 -0.01259946  0.02413156] -0.012599794994405524 [0.04228576] False\n",
      "==========\n",
      "186 -0.0001815838133102075 [ 0.99993332 -0.0115483   0.02102483] -0.011548553658514137 [-0.06332762] False\n",
      "==========\n",
      "187 -0.0001444202111150699 [ 0.99993496 -0.01140508  0.00286446] -0.011405330632209451 [0.1162675] False\n",
      "==========\n",
      "188 -0.00020435474236537419 [ 0.99994149 -0.01081758  0.01175077] -0.010817792004016105 [-0.2711495] False\n",
      "==========\n",
      "189 -0.0004979848959037485 [ 0.99991974 -0.01266919 -0.03703484] -0.012669533935809213 [0.44755992] False\n",
      "==========\n",
      "190 -0.00017900669328705418 [ 0.99993226 -0.01163941  0.02059725] -0.011639671309275009 [0.03316721] False\n",
      "==========\n",
      "191 -0.00017903266140441846 [ 0.99994171 -0.01079732  0.01684278] -0.010797532414720186 [-0.18460238] False\n",
      "==========\n",
      "192 -0.0002528927195392811 [ 0.99993103 -0.01174454 -0.01894557] -0.011744810962818033 [0.28117373] False\n",
      "==========\n",
      "193 -0.000146547318709662 [ 0.99993924 -0.01102348  0.01442208] -0.011023706786378675 [-0.06500429] False\n",
      "==========\n",
      "194 -0.00013343820290513352 [ 0.99993724 -0.01120328 -0.00359617] -0.011203515436908729 [-0.08140147] False\n",
      "==========\n",
      "195 -0.00022345798373890006 [ 0.99992295 -0.01241364 -0.02420885] -0.012413958125113271 [0.10365697] False\n",
      "==========\n",
      "196 -0.00021006868595865345 [ 0.99991139 -0.01331209 -0.01797054] -0.01331248501430439 [0.02350332] False\n",
      "==========\n",
      "197 -0.0002751576155202852 [ 0.99989438 -0.01453343 -0.02442911] -0.014533940473744024 [0.06514639] False\n",
      "==========\n",
      "198 -0.00034832448167635983 [ 0.999875   -0.01581114 -0.02555722] -0.01581180158121752 [0.1816432] False\n",
      "==========\n",
      "199 -0.0002795339652304211 [ 0.99986683 -0.01631953 -0.0101691 ] -0.01632025654257959 [-0.05331167] True\n",
      "==========\n",
      "Pendulum-v1 - Steps: 200, Return: -246.47377336775762\n"
     ]
    }
   ],
   "source": [
    "env, env_params = gymnax.make(\n",
    "        configs.train_config.env_name,\n",
    "        **configs.train_config.env_kwargs,\n",
    "    )\n",
    "env_params.replace(**configs.train_config.env_params)\n",
    "state_seq, cum_rewards = rollout_episode(\n",
    "    env, env_params, model, model_params,max_frames=episode_length\n",
    ")"
   ]
  },
  {
   "cell_type": "code",
   "execution_count": 92,
   "metadata": {},
   "outputs": [
    {
     "data": {
      "image/png": "[encoded data removed]",
      "text/plain": [
       "<Figure size 600x500 with 1 Axes>"
      ]
     },
     "metadata": {
      "image/png": {
       "height": 474,
       "width": 449
      }
     },
     "output_type": "display_data"
    }
   ],
   "source": [
    "vis = Visualizer(env, env_params, state_seq, cum_rewards)\n",
    "vis.animate(osp.join(\"results\",f\"{gym_env}-ppo.gif\"))"
   ]
  },
  {
   "cell_type": "markdown",
   "metadata": {},
   "source": [
    "# Debugging"
   ]
  },
  {
   "cell_type": "code",
   "execution_count": null,
   "metadata": {},
   "outputs": [],
   "source": [
    "\"\"\"Run training with ES or PPO. Store logs and agent ckpt.\"\"\"\n",
    "ppo_yaml = osp.join(\"expert_agents\",\"CartPole-v1\",\"ppo.yaml\")\n",
    "seed_id = 123\n",
    "lrate = 5e-04\n",
    "\n",
    "config = load_config(ppo_yaml, seed_id, lrate)\n",
    "\n",
    "rng = jax.random.PRNGKey(config.train_config.seed_id)\n",
    "# Setup the model architecture\n",
    "rng, rng_init = jax.random.split(rng)\n",
    "model, policy_params = get_model_ready(rng_init, config.train_config)"
   ]
  },
  {
   "cell_type": "code",
   "execution_count": null,
   "metadata": {
    "ExecuteTime": {
     "end_time": "2025-01-07T23:08:41.810124Z",
     "start_time": "2025-01-07T23:08:41.695052Z"
    }
   },
   "outputs": [],
   "source": [
    "def batch_step(action, state):\n",
    "    return jax.vmap(cartpole_step, in_axes=(0,0))(\n",
    "        action, state)\n",
    "    "
   ]
  },
  {
   "cell_type": "code",
   "execution_count": null,
   "metadata": {
    "ExecuteTime": {
     "end_time": "2025-01-07T23:09:19.605351Z",
     "start_time": "2025-01-07T23:09:19.450369Z"
    }
   },
   "outputs": [],
   "source": [
    "state = jnp.array([0.1,0.1,0.1,0.1])\n",
    "action = jnp.array([-1.])"
   ]
  },
  {
   "cell_type": "code",
   "execution_count": null,
   "metadata": {},
   "outputs": [],
   "source": [
    "state = cartpole_step(action,state)\n",
    "state"
   ]
  },
  {
   "cell_type": "code",
   "execution_count": null,
   "metadata": {},
   "outputs": [],
   "source": [
    "state_batch = [jnp.array(np.random.randn(5,)),\n",
    "                       jnp.array(np.random.randn(5,)),\n",
    "                       jnp.array(np.random.randn(5,)),\n",
    "                       jnp.array(np.random.randn(5,))]\n",
    "state_batch = jnp.stack(state_batch,axis=1)\n",
    "action_batch = jnp.array(np.random.randint(0,2,5)).astype(float).reshape(-1,1)"
   ]
  },
  {
   "cell_type": "code",
   "execution_count": null,
   "metadata": {},
   "outputs": [],
   "source": [
    "next_state  = batch_step(\n",
    "   action_batch,state_batch\n",
    ")\n",
    "next_state"
   ]
  },
  {
   "cell_type": "code",
   "execution_count": null,
   "metadata": {},
   "outputs": [],
   "source": [
    "state_batch = [jnp.ones(5),\n",
    "                       jnp.ones(5),\n",
    "                       jnp.ones(5),\n",
    "                       jnp.ones(5)]\n",
    "state_batch = jnp.stack(state_batch,axis=1)\n",
    "action_batch = jnp.ones(5).reshape(-1,1)*-5"
   ]
  },
  {
   "cell_type": "code",
   "execution_count": null,
   "metadata": {},
   "outputs": [],
   "source": [
    "next_state  = batch_step(\n",
    "   action_batch,state_batch\n",
    ")"
   ]
  },
  {
   "cell_type": "code",
   "execution_count": null,
   "metadata": {},
   "outputs": [],
   "source": [
    "next_state"
   ]
  },
  {
   "cell_type": "code",
   "execution_count": null,
   "metadata": {},
   "outputs": [],
   "source": [
    "# Jit-Compiled Episode Rollout\n",
    "from functools import partial\n",
    "\n",
    "jit_rollout = jax.jit(partial(kinematics,step_fn=cartpole_step))"
   ]
  },
  {
   "cell_type": "code",
   "execution_count": null,
   "metadata": {},
   "outputs": [],
   "source": [
    "state = jnp.ones(4)*0.1\n",
    "action = jnp.array(np.random.randint(0,2,10)).reshape(-1,1)\n",
    "action.ravel()"
   ]
  },
  {
   "cell_type": "code",
   "execution_count": null,
   "metadata": {},
   "outputs": [],
   "source": [
    "x_rollout = jit_rollout(action,state)"
   ]
  },
  {
   "cell_type": "code",
   "execution_count": null,
   "metadata": {},
   "outputs": [],
   "source": [
    "x_rollout"
   ]
  },
  {
   "cell_type": "code",
   "execution_count": null,
   "metadata": {
    "scrolled": true
   },
   "outputs": [],
   "source": [
    "state_t =  jnp.array([0.25,.1,0.2,0.3])\n",
    "action = jnp.array([15])\n",
    "for t in range(10):\n",
    "  state_t = cartpole_step(action,state_t)\n",
    "  print(state_t)"
   ]
  },
  {
   "cell_type": "code",
   "execution_count": null,
   "metadata": {},
   "outputs": [],
   "source": [
    "state = jnp.array([0.25,.1,0.2,0.3])\n",
    "action = jnp.ones(10).reshape(-1,1)*15\n",
    "x_rollout = jit_rollout(action,state)\n",
    "x_rollout"
   ]
  },
  {
   "cell_type": "code",
   "execution_count": null,
   "metadata": {
    "scrolled": true
   },
   "outputs": [],
   "source": [
    "cartpole_dynamics = jax.vmap(jit_rollout,in_axes=(0,None))\n",
    "\n",
    "action = jnp.ones((10,5,1))*15\n",
    "\n",
    "cartpole_dynamics(action,state)"
   ]
  },
  {
   "cell_type": "code",
   "execution_count": null,
   "metadata": {},
   "outputs": [],
   "source": []
  }
 ],
 "metadata": {
  "kernelspec": {
   "display_name": "Python 3 (ipykernel)",
   "language": "python",
   "name": "python3"
  },
  "language_info": {
   "codemirror_mode": {
    "name": "ipython",
    "version": 3
   },
   "file_extension": ".py",
   "mimetype": "text/x-python",
   "name": "python",
   "nbconvert_exporter": "python",
   "pygments_lexer": "ipython3",
   "version": "3.10.16"
  }
 },
 "nbformat": 4,
 "nbformat_minor": 4
}
